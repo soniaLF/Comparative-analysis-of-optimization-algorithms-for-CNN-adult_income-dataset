{
 "cells": [
  {
   "cell_type": "code",
   "execution_count": 8,
   "metadata": {},
   "outputs": [],
   "source": [
    "import pandas as pd\n",
    "import numpy as np\n",
    "from sklearn.preprocessing import MinMaxScaler"
   ]
  },
  {
   "cell_type": "code",
   "execution_count": 2,
   "metadata": {},
   "outputs": [],
   "source": [
    "pathtrs='dataset/train_data.csv'\n",
    "train=pd.read_csv(pathtrs)"
   ]
  },
  {
   "cell_type": "code",
   "execution_count": 4,
   "metadata": {},
   "outputs": [
    {
     "name": "stdout",
     "output_type": "stream",
     "text": [
      "   age  fnlwgt  educational-num  capital-gain  capital-loss  hours-per-week  \\\n",
      "0   42  145175               10             0             0              40   \n",
      "1   52  175029                6             0             0              35   \n",
      "2   34  172664                9             0             0              40   \n",
      "3   28  125791                9             0             0              40   \n",
      "4   46   28419               11             0             0              50   \n",
      "5   54  439608               10             0             0              40   \n",
      "6   26   96645               16             0             0              20   \n",
      "7   61  373099                4             0             0              40   \n",
      "8   39  252327                4             0             0              40   \n",
      "9   41   32627                9             0             0              40   \n",
      "\n",
      "   income  workclass_Government  workclass_Other  workclass_Private Sector  \\\n",
      "0       0                     0                0                         1   \n",
      "1       0                     0                0                         0   \n",
      "2       0                     1                0                         0   \n",
      "3       0                     0                0                         1   \n",
      "4       0                     0                0                         1   \n",
      "5       0                     1                0                         0   \n",
      "6       0                     0                0                         1   \n",
      "7       0                     0                0                         1   \n",
      "8       0                     0                0                         1   \n",
      "9       0                     0                0                         1   \n",
      "\n",
      "   ...  race_White  gender_Female  gender_Male  native-country_Asia  \\\n",
      "0  ...           1              0            1                    0   \n",
      "1  ...           1              0            1                    0   \n",
      "2  ...           1              0            1                    0   \n",
      "3  ...           1              1            0                    0   \n",
      "4  ...           1              0            1                    0   \n",
      "5  ...           1              1            0                    0   \n",
      "6  ...           0              0            1                    0   \n",
      "7  ...           1              0            1                    0   \n",
      "8  ...           1              0            1                    0   \n",
      "9  ...           1              0            1                    0   \n",
      "\n",
      "   native-country_Caribbean  native-country_Central America  \\\n",
      "0                         0                               0   \n",
      "1                         0                               0   \n",
      "2                         0                               0   \n",
      "3                         0                               0   \n",
      "4                         0                               0   \n",
      "5                         0                               0   \n",
      "6                         0                               0   \n",
      "7                         0                               0   \n",
      "8                         0                               0   \n",
      "9                         0                               0   \n",
      "\n",
      "   native-country_Europe  native-country_North America  native-country_Other  \\\n",
      "0                      0                             1                     0   \n",
      "1                      0                             1                     0   \n",
      "2                      0                             1                     0   \n",
      "3                      0                             1                     0   \n",
      "4                      0                             1                     0   \n",
      "5                      0                             1                     0   \n",
      "6                      0                             1                     0   \n",
      "7                      0                             1                     0   \n",
      "8                      0                             1                     0   \n",
      "9                      0                             1                     0   \n",
      "\n",
      "   native-country_South America  \n",
      "0                             0  \n",
      "1                             0  \n",
      "2                             0  \n",
      "3                             0  \n",
      "4                             0  \n",
      "5                             0  \n",
      "6                             0  \n",
      "7                             0  \n",
      "8                             0  \n",
      "9                             0  \n",
      "\n",
      "[10 rows x 50 columns]\n"
     ]
    }
   ],
   "source": [
    "print(train.head(10))"
   ]
  },
  {
   "cell_type": "code",
   "execution_count": 5,
   "metadata": {},
   "outputs": [],
   "source": [
    "pathts='dataset/test_data.csv'\n",
    "test=pd.read_csv(pathts)"
   ]
  },
  {
   "cell_type": "code",
   "execution_count": 6,
   "metadata": {},
   "outputs": [
    {
     "name": "stdout",
     "output_type": "stream",
     "text": [
      "   age  fnlwgt  educational-num  capital-gain  capital-loss  hours-per-week  \\\n",
      "0   56   33115                9             0             0              40   \n",
      "1   25  112847                9             0             0              40   \n",
      "2   43  170525               13         14344             0              40   \n",
      "3   32  186788                9             0             0              40   \n",
      "4   39  277886               13             0             0              30   \n",
      "5   20  323009                9             0             0              40   \n",
      "6   54  146834                9             0             0              45   \n",
      "7   25  166977               13             0          1887              40   \n",
      "8   30  209317                9             0             0              50   \n",
      "9   33   92865               10             0             0              40   \n",
      "\n",
      "   income  workclass_Government  workclass_Other  workclass_Private Sector  \\\n",
      "0       0                     0                0                         1   \n",
      "1       0                     0                0                         1   \n",
      "2       1                     0                0                         1   \n",
      "3       0                     0                0                         1   \n",
      "4       0                     0                0                         1   \n",
      "5       0                     0                0                         1   \n",
      "6       0                     0                0                         1   \n",
      "7       1                     0                0                         1   \n",
      "8       0                     0                0                         1   \n",
      "9       0                     0                0                         1   \n",
      "\n",
      "   ...  race_White  gender_Female  gender_Male  native-country_Asia  \\\n",
      "0  ...           1              1            0                    0   \n",
      "1  ...           0              0            1                    0   \n",
      "2  ...           1              1            0                    0   \n",
      "3  ...           1              0            1                    0   \n",
      "4  ...           1              1            0                    0   \n",
      "5  ...           1              1            0                    0   \n",
      "6  ...           1              0            1                    0   \n",
      "7  ...           1              1            0                    0   \n",
      "8  ...           1              0            1                    0   \n",
      "9  ...           1              1            0                    0   \n",
      "\n",
      "   native-country_Caribbean  native-country_Central America  \\\n",
      "0                         0                               0   \n",
      "1                         0                               0   \n",
      "2                         0                               0   \n",
      "3                         0                               0   \n",
      "4                         0                               0   \n",
      "5                         0                               0   \n",
      "6                         0                               0   \n",
      "7                         0                               0   \n",
      "8                         0                               1   \n",
      "9                         0                               0   \n",
      "\n",
      "   native-country_Europe  native-country_North America  native-country_Other  \\\n",
      "0                      0                             1                     0   \n",
      "1                      0                             1                     0   \n",
      "2                      0                             1                     0   \n",
      "3                      0                             1                     0   \n",
      "4                      0                             1                     0   \n",
      "5                      1                             0                     0   \n",
      "6                      0                             1                     0   \n",
      "7                      0                             1                     0   \n",
      "8                      0                             0                     0   \n",
      "9                      0                             1                     0   \n",
      "\n",
      "   native-country_South America  \n",
      "0                             0  \n",
      "1                             0  \n",
      "2                             0  \n",
      "3                             0  \n",
      "4                             0  \n",
      "5                             0  \n",
      "6                             0  \n",
      "7                             0  \n",
      "8                             0  \n",
      "9                             0  \n",
      "\n",
      "[10 rows x 50 columns]\n"
     ]
    }
   ],
   "source": [
    "print(test.head(10))"
   ]
  },
  {
   "cell_type": "markdown",
   "metadata": {},
   "source": [
    "### Regolarizzazione dataset \n",
    "Il dataset va regolarizzato per poterlo usare nell'addestramento di una CNN.  \n",
    "La regolarizzazzione si fa usando il criterio min-max.  \n",
    "Il calcolo del min e del max si fa usando il solo training set per evitare data leakage.  \n",
    "Poi i valori min e max calcolati vengono usati per regolarizzare anche il test set."
   ]
  },
  {
   "cell_type": "markdown",
   "metadata": {},
   "source": [
    "<span style=\"color:blue\">Questo testo è blu</span>"
   ]
  },
  {
   "cell_type": "markdown",
   "metadata": {},
   "source": [
    "<h1 style=\"color:green\">Titolo in verde</h1>\n"
   ]
  },
  {
   "cell_type": "markdown",
   "metadata": {},
   "source": [
    "<h1 style=\"color:red; background-color:yellow\">Titolo con sfondo giallo e testo rosso</h1>"
   ]
  },
  {
   "cell_type": "code",
   "execution_count": 9,
   "metadata": {},
   "outputs": [],
   "source": [
    "# Inizializziamo lo scaler\n",
    "scaler = MinMaxScaler()\n",
    "\n",
    "# Fit del scaler solo sul training set\n",
    "scaler.fit(train)\n",
    "\n",
    "# Trasformiamo sia il training set che il test set\n",
    "X_train_scaled = scaler.transform(train)\n",
    "X_test_scaled = scaler.transform(test)\n",
    "\n",
    "# Ora X_train_scaled e X_test_scaled sono normalizzati secondo il criterio Min-Max"
   ]
  },
  {
   "cell_type": "markdown",
   "metadata": {},
   "source": [
    "### Eliminazione feature non necessaria"
   ]
  },
  {
   "cell_type": "code",
   "execution_count": 10,
   "metadata": {},
   "outputs": [
    {
     "name": "stdout",
     "output_type": "stream",
     "text": [
      "Index(['age', 'educational-num', 'capital-gain', 'capital-loss',\n",
      "       'hours-per-week', 'income', 'workclass_Government', 'workclass_Other',\n",
      "       'workclass_Private Sector', 'workclass_Self-Employment',\n",
      "       'education_Associate Degree', 'education_Bachelor’s Degree',\n",
      "       'education_Graduate Degree', 'education_High School',\n",
      "       'education_Low Education', 'marital-status_Divorced',\n",
      "       'marital-status_Married-AF-spouse', 'marital-status_Married-civ-spouse',\n",
      "       'marital-status_Married-spouse-absent', 'marital-status_Never-married',\n",
      "       'marital-status_Separated', 'marital-status_Widowed',\n",
      "       'occupation_Armed Forces', 'occupation_Craft and Repair',\n",
      "       'occupation_Management Occupations', 'occupation_Manual Labor',\n",
      "       'occupation_Professional Occupations', 'occupation_Sales Occupations',\n",
      "       'occupation_Service Occupations', 'relationship_Husband',\n",
      "       'relationship_Not-in-family', 'relationship_Other-relative',\n",
      "       'relationship_Own-child', 'relationship_Unmarried', 'relationship_Wife',\n",
      "       'race_Amer-Indian-Eskimo', 'race_Asian-Pac-Islander', 'race_Black',\n",
      "       'race_Other', 'race_White', 'gender_Female', 'gender_Male',\n",
      "       'native-country_Asia', 'native-country_Caribbean',\n",
      "       'native-country_Central America', 'native-country_Europe',\n",
      "       'native-country_North America', 'native-country_Other',\n",
      "       'native-country_South America'],\n",
      "      dtype='object')\n",
      "Index(['age', 'educational-num', 'capital-gain', 'capital-loss',\n",
      "       'hours-per-week', 'income', 'workclass_Government', 'workclass_Other',\n",
      "       'workclass_Private Sector', 'workclass_Self-Employment',\n",
      "       'education_Associate Degree', 'education_Bachelor’s Degree',\n",
      "       'education_Graduate Degree', 'education_High School',\n",
      "       'education_Low Education', 'marital-status_Divorced',\n",
      "       'marital-status_Married-AF-spouse', 'marital-status_Married-civ-spouse',\n",
      "       'marital-status_Married-spouse-absent', 'marital-status_Never-married',\n",
      "       'marital-status_Separated', 'marital-status_Widowed',\n",
      "       'occupation_Armed Forces', 'occupation_Craft and Repair',\n",
      "       'occupation_Management Occupations', 'occupation_Manual Labor',\n",
      "       'occupation_Professional Occupations', 'occupation_Sales Occupations',\n",
      "       'occupation_Service Occupations', 'relationship_Husband',\n",
      "       'relationship_Not-in-family', 'relationship_Other-relative',\n",
      "       'relationship_Own-child', 'relationship_Unmarried', 'relationship_Wife',\n",
      "       'race_Amer-Indian-Eskimo', 'race_Asian-Pac-Islander', 'race_Black',\n",
      "       'race_Other', 'race_White', 'gender_Female', 'gender_Male',\n",
      "       'native-country_Asia', 'native-country_Caribbean',\n",
      "       'native-country_Central America', 'native-country_Europe',\n",
      "       'native-country_North America', 'native-country_Other',\n",
      "       'native-country_South America'],\n",
      "      dtype='object')\n"
     ]
    }
   ],
   "source": [
    "# Rimuovi la colonna 'fnlwgt' sia dal training set che dal test set\n",
    "train = train.drop('fnlwgt', axis=1)\n",
    "test = test.drop('fnlwgt', axis=1)\n",
    "\n",
    "# Verifica la rimozione della colonna\n",
    "print(train.columns)\n",
    "print(test.columns)"
   ]
  },
  {
   "cell_type": "markdown",
   "metadata": {},
   "source": [
    "### Reshaping del dataset\n",
    "Il dataset è in forma tabulare per poterlo dare in pasto alla CNN deve avere una forma a griglia.  \n",
    "in questo caso le feature sono 49 perciò la griglia sarà 7x7"
   ]
  },
  {
   "cell_type": "code",
   "execution_count": 13,
   "metadata": {},
   "outputs": [
    {
     "name": "stdout",
     "output_type": "stream",
     "text": [
      "Train reshaped shape: (39073, 7, 7, 1)\n",
      "Test reshaped shape: (9769, 7, 7, 1)\n"
     ]
    }
   ],
   "source": [
    "# Convertiamo il DataFrame in array NumPy prima di fare il reshape\n",
    "train_array = train.to_numpy()  # O .values per compatibilità con vecchie versioni di pandas\n",
    "test_array = test.to_numpy()\n",
    "\n",
    "# Ora possiamo fare il reshape sugli array NumPy\n",
    "train_reshaped = train_array.reshape(-1, 7, 7, 1)\n",
    "test_reshaped = test_array.reshape(-1, 7, 7, 1)\n",
    "\n",
    "# Controlliamo le dimensioni\n",
    "print(f\"Train reshaped shape: {train_reshaped.shape}\")\n",
    "print(f\"Test reshaped shape: {test_reshaped.shape}\")"
   ]
  },
  {
   "cell_type": "code",
   "execution_count": 14,
   "metadata": {},
   "outputs": [],
   "source": [
    "# Salvare train_reshaped e test_reshaped come file .npy\n",
    "np.save('dataset/train_reshaped.npy', train_reshaped)\n",
    "np.save('dataset/test_reshaped.npy', test_reshaped)\n"
   ]
  },
  {
   "cell_type": "code",
   "execution_count": null,
   "metadata": {},
   "outputs": [],
   "source": []
  }
 ],
 "metadata": {
  "kernelspec": {
   "display_name": "Python 3",
   "language": "python",
   "name": "python3"
  },
  "language_info": {
   "codemirror_mode": {
    "name": "ipython",
    "version": 3
   },
   "file_extension": ".py",
   "mimetype": "text/x-python",
   "name": "python",
   "nbconvert_exporter": "python",
   "pygments_lexer": "ipython3",
   "version": "3.8.3"
  }
 },
 "nbformat": 4,
 "nbformat_minor": 4
}
