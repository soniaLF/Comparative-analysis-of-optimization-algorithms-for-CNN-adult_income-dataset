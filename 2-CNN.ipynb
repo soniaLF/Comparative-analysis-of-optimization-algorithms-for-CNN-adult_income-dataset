{
 "cells": [
  {
   "cell_type": "markdown",
   "metadata": {},
   "source": [
    "## Import "
   ]
  },
  {
   "cell_type": "code",
   "execution_count": 8,
   "metadata": {},
   "outputs": [],
   "source": [
    "import torch\n",
    "from torch.utils.data import Dataset, DataLoader\n",
    "import torch\n",
    "import torch.nn as nn\n",
    "import torch.optim as optim\n",
    "import torch.nn.functional as F\n",
    "import torch.optim as optim\n",
    "import numpy as np\n"
   ]
  },
  {
   "cell_type": "code",
   "execution_count": 9,
   "metadata": {},
   "outputs": [
    {
     "name": "stdout",
     "output_type": "stream",
     "text": [
      "Train features shape: (31258, 7, 7, 1)\n"
     ]
    }
   ],
   "source": [
    "# Carica i dati\n",
    "train_features = np.load('dataset/X_train.npy')\n",
    "\n",
    "# Verifica la forma\n",
    "print(\"Train features shape:\", train_features.shape)\n",
    "\n",
    "# Carica i dati\n",
    "train_features = np.load('dataset/X_train.npy')\n",
    "val_features = np.load('dataset/X_val.npy')\n",
    "# Carica le etichette\n",
    "val_labels = np.load('dataset/y_val.npy')"
   ]
  },
  {
   "cell_type": "markdown",
   "metadata": {},
   "source": [
    "### Traspongo i dati \n",
    "perché adesso sono nella forma [batch_size, height, width, numchannel] ma devono essere nella forma [batch_size, num_channels, height, width]"
   ]
  },
  {
   "cell_type": "code",
   "execution_count": 10,
   "metadata": {},
   "outputs": [
    {
     "name": "stdout",
     "output_type": "stream",
     "text": [
      "Train features shape: (31258, 1, 7, 7)\n"
     ]
    }
   ],
   "source": [
    "\n",
    "\n",
    "# Trasponi le dimensioni\n",
    "train_features = np.transpose(train_features, (0, 3, 1, 2))  # Cambia da (31258, 7, 7, 1) a (31258, 1, 7, 7)\n",
    "\n",
    "# Verifica la nuova forma\n",
    "print(\"Train features shape:\", train_features.shape)\n"
   ]
  },
  {
   "cell_type": "code",
   "execution_count": 11,
   "metadata": {},
   "outputs": [
    {
     "name": "stdout",
     "output_type": "stream",
     "text": [
      "Validation features shape: (7815, 1, 7, 7)\n"
     ]
    }
   ],
   "source": [
    "\n",
    "# Trasponi le dimensioni per il set di validazione\n",
    "val_features = np.transpose(val_features, (0, 3, 1, 2))  # Cambia da (N, 7, 7, 1) a (N, 1, 7, 7)\n",
    "\n",
    "# Trasponi le dimensioni per il set di test\n",
    "# test_features = np.transpose(test_features, (0, 3, 1, 2))  # Cambia da (N, 7, 7, 1) a (N, 1, 7, 7)\n",
    "\n",
    "# Verifica le nuove forme\n",
    "print(\"Validation features shape:\", val_features.shape)\n",
    "# print(\"Test features shape:\", test_features.shape)"
   ]
  },
  {
   "cell_type": "markdown",
   "metadata": {},
   "source": [
    "## Trasformazione dei dati in un formato compatibile con pytorch\n",
    "I dati per poter essere letti ed elaborati da pytorch devono essere in formato di tensori (generalizzazione degli array e matrici che possono avere dimensioni multiple) "
   ]
  },
  {
   "cell_type": "markdown",
   "metadata": {},
   "source": [
    "### Definizione di una classe dataset personalizzata "
   ]
  },
  {
   "cell_type": "code",
   "execution_count": 12,
   "metadata": {},
   "outputs": [],
   "source": [
    "class CustomDataset(Dataset):\n",
    "    def __init__(self, features, labels):\n",
    "        self.features = torch.tensor(features, dtype=torch.float32)\n",
    "        self.labels = torch.tensor(labels, dtype=torch.long)\n",
    "\n",
    "    def __len__(self):\n",
    "        return len(self.features)\n",
    "\n",
    "    def __getitem__(self, idx):\n",
    "        return self.features[idx], self.labels[idx]\n"
   ]
  },
  {
   "cell_type": "markdown",
   "metadata": {},
   "source": [
    "### Creazione dei dataloader "
   ]
  },
  {
   "cell_type": "code",
   "execution_count": 13,
   "metadata": {},
   "outputs": [],
   "source": [
    "# # Carica i dati\n",
    "# train_features = np.load('dataset/X_train.npy')\n",
    "train_labels = np.load('dataset/y_train.npy')\n",
    "# val_features = np.load('dataset/X_val.npy')\n",
    "# val_labels = np.load('dataset/y_val.npy')\n",
    "\n",
    "# Crea i dataset\n",
    "train_dataset = CustomDataset(train_features, train_labels)\n",
    "val_dataset = CustomDataset(val_features, val_labels)\n",
    "\n",
    "# Crea i dataloader\n",
    "train_loader = DataLoader(train_dataset, batch_size=32, shuffle=True)\n",
    "val_loader = DataLoader(val_dataset, batch_size=32, shuffle=False)\n"
   ]
  },
  {
   "cell_type": "markdown",
   "metadata": {},
   "source": [
    "## Definizione della CNN\n",
    "Si definiscono 3 strati convoluzionali con kernel 3x3 e padding 1\n",
    "\n",
    "Strato di poolin 2x2 per ridurre la dimensionalità spaziale\n",
    "\n",
    "2 strati fully connected per la classificazione"
   ]
  },
  {
   "cell_type": "code",
   "execution_count": 14,
   "metadata": {},
   "outputs": [],
   "source": [
    "class SimpleCNN(nn.Module):\n",
    "    def __init__(self):\n",
    "        super(SimpleCNN, self).__init__()\n",
    "        # Strato convoluzionale 1\n",
    "        self.conv1 = nn.Conv2d(in_channels=1, out_channels=32, kernel_size=3, padding=1)\n",
    "        # Strato convoluzionale 2\n",
    "        self.conv2 = nn.Conv2d(in_channels=32, out_channels=64, kernel_size=3, padding=1)\n",
    "        # Strato convoluzionale 3\n",
    "        self.conv3 = nn.Conv2d(in_channels=64, out_channels=128, kernel_size=3, padding=1)\n",
    "        # Strato di pooling\n",
    "        self.pool = nn.MaxPool2d(kernel_size=2, stride=2, padding=0)\n",
    "\n",
    "        # Strato completamente connesso 1\n",
    "        self.fc1 = nn.Linear(128 * 1 * 1, 256)\n",
    "        # Strato completamente connesso 2\n",
    "        self.fc2 = nn.Linear(256, 2)  # Modifica il numero di output in base al numero di classi\n",
    "\n",
    "    def forward(self, x):\n",
    "#         print(\"Input size:\", x.size())\n",
    "        x = self.pool(F.relu(self.conv1(x)))\n",
    "#         print(\"After conv1 and pooling size:\", x.size())\n",
    "        x = self.pool(F.relu(self.conv2(x)))\n",
    "#         print(\"After conv2 and pooling size:\", x.size())\n",
    "        x = F.relu(self.conv3(x))  # Nessun pooling dopo conv3\n",
    "#         print(\"After conv3 (no pooling) size:\", x.size())\n",
    "        x = x.view(-1, 128 * 1 * 1)  # Modifica in base alle dimensioni dopo conv3\n",
    "#         print(\"After flattening size:\", x.size())\n",
    "        x = F.relu(self.fc1(x))\n",
    "        x = self.fc2(x)\n",
    "        return x\n"
   ]
  },
  {
   "cell_type": "markdown",
   "metadata": {},
   "source": [
    "### Addestramento del modello "
   ]
  },
  {
   "cell_type": "code",
   "execution_count": 15,
   "metadata": {},
   "outputs": [
    {
     "name": "stdout",
     "output_type": "stream",
     "text": [
      "Epoch 1/10\n",
      "Train Loss: 6.0035\n",
      "Validation Loss: 0.5141\n",
      "Validation Accuracy: 0.7921\n",
      "Epoch 2/10\n",
      "Train Loss: 0.5417\n",
      "Validation Loss: 0.5127\n",
      "Validation Accuracy: 0.7834\n",
      "Epoch 3/10\n",
      "Train Loss: 0.5390\n",
      "Validation Loss: 0.5437\n",
      "Validation Accuracy: 0.7663\n",
      "Epoch 4/10\n",
      "Train Loss: 0.5439\n",
      "Validation Loss: 0.5565\n",
      "Validation Accuracy: 0.7552\n",
      "Epoch 5/10\n",
      "Train Loss: 0.5448\n",
      "Validation Loss: 0.5574\n",
      "Validation Accuracy: 0.7544\n",
      "Epoch 6/10\n",
      "Train Loss: 0.5766\n",
      "Validation Loss: 0.5561\n",
      "Validation Accuracy: 0.7557\n",
      "Epoch 7/10\n",
      "Train Loss: 0.5453\n",
      "Validation Loss: 0.5578\n",
      "Validation Accuracy: 0.7539\n",
      "Epoch 8/10\n",
      "Train Loss: 0.5497\n",
      "Validation Loss: 0.5573\n",
      "Validation Accuracy: 0.7544\n",
      "Epoch 9/10\n",
      "Train Loss: 0.5483\n",
      "Validation Loss: 0.5511\n",
      "Validation Accuracy: 0.7588\n",
      "Epoch 10/10\n",
      "Train Loss: 0.8319\n",
      "Validation Loss: 0.5562\n",
      "Validation Accuracy: 0.7553\n"
     ]
    }
   ],
   "source": [
    "# Definisci il modello, la funzione di perdita e l'ottimizzatore\n",
    "model = SimpleCNN()\n",
    "criterion = nn.CrossEntropyLoss()\n",
    "optimizer = optim.Adam(model.parameters(), lr=0.001)\n",
    "\n",
    "# Funzione di addestramento\n",
    "def train_model(model, dataloader, criterion, optimizer, device):\n",
    "    model.train()\n",
    "    running_loss = 0.0\n",
    "    for inputs, labels in dataloader:\n",
    "        inputs, labels = inputs.to(device), labels.to(device)\n",
    "        \n",
    "        optimizer.zero_grad()\n",
    "        \n",
    "        outputs = model(inputs)\n",
    "        loss = criterion(outputs, labels)\n",
    "        loss.backward()\n",
    "        optimizer.step()\n",
    "        \n",
    "        running_loss += loss.item() * inputs.size(0)\n",
    "    epoch_loss = running_loss / len(dataloader.dataset)\n",
    "    return epoch_loss\n",
    "\n",
    "# Funzione di validazione\n",
    "def evaluate_model(model, dataloader, criterion, device):\n",
    "    model.eval()\n",
    "    running_loss = 0.0\n",
    "    corrects = 0\n",
    "    total = 0\n",
    "    with torch.no_grad():\n",
    "        for inputs, labels in dataloader:\n",
    "            inputs, labels = inputs.to(device), labels.to(device)\n",
    "            \n",
    "            outputs = model(inputs)\n",
    "            loss = criterion(outputs, labels)\n",
    "            \n",
    "            _, preds = torch.max(outputs, 1)\n",
    "            corrects += (preds == labels).sum().item()\n",
    "            total += labels.size(0)\n",
    "            \n",
    "            running_loss += loss.item() * inputs.size(0)\n",
    "    \n",
    "    epoch_loss = running_loss / len(dataloader.dataset)\n",
    "    accuracy = corrects / total\n",
    "    return epoch_loss, accuracy\n",
    "\n",
    "# Imposta il device\n",
    "device = torch.device('cuda' if torch.cuda.is_available() else 'cpu')\n",
    "model.to(device)\n",
    "\n",
    "# Addestra e valuta il modello\n",
    "num_epochs = 10\n",
    "for epoch in range(num_epochs):\n",
    "    train_loss = train_model(model, train_loader, criterion, optimizer, device)\n",
    "    val_loss, val_accuracy = evaluate_model(model, val_loader, criterion, device)\n",
    "    \n",
    "    print(f'Epoch {epoch+1}/{num_epochs}')\n",
    "    print(f'Train Loss: {train_loss:.4f}')\n",
    "    print(f'Validation Loss: {val_loss:.4f}')\n",
    "    print(f'Validation Accuracy: {val_accuracy:.4f}')"
   ]
  },
  {
   "cell_type": "code",
   "execution_count": null,
   "metadata": {},
   "outputs": [],
   "source": []
  }
 ],
 "metadata": {
  "kernelspec": {
   "display_name": "Python 3",
   "language": "python",
   "name": "python3"
  },
  "language_info": {
   "codemirror_mode": {
    "name": "ipython",
    "version": 3
   },
   "file_extension": ".py",
   "mimetype": "text/x-python",
   "name": "python",
   "nbconvert_exporter": "python",
   "pygments_lexer": "ipython3",
   "version": "3.8.3"
  }
 },
 "nbformat": 4,
 "nbformat_minor": 4
}
